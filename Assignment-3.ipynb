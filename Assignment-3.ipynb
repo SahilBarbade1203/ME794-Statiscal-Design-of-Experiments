{
 "cells": [
  {
   "cell_type": "code",
   "execution_count": 2,
   "id": "7d6f95ea",
   "metadata": {},
   "outputs": [],
   "source": [
    "import numpy as np\n",
    "import pandas as pd\n",
    "import matplotlib.pyplot as plt\n",
    "import seaborn as sns"
   ]
  },
  {
   "cell_type": "code",
   "execution_count": 3,
   "id": "83475984",
   "metadata": {},
   "outputs": [],
   "source": [
    "%matplotlib inline"
   ]
  },
  {
   "cell_type": "markdown",
   "id": "ea5a216a",
   "metadata": {},
   "source": [
    "# Question 1"
   ]
  },
  {
   "cell_type": "code",
   "execution_count": 4,
   "id": "c81d6047",
   "metadata": {},
   "outputs": [
    {
     "name": "stdout",
     "output_type": "stream",
     "text": [
      "Two sample T test for 10 seconds vs 20 seconds\n",
      "\n",
      "\n",
      "              N  Mean  Std Dev\n",
      "10 seconds  20  3.35   1.9564\n",
      "20 seconds  20  6.50   1.5000\n",
      "\n",
      "\n",
      "\n",
      "T-test value: 5.71430040545799\n",
      "95% upper bound for difference: 1.8588102210822925\n",
      "DoF: 38 \n"
     ]
    }
   ],
   "source": [
    "a = np.array([1,2, 1, 3, 5, 1, 5, 2,3, 5, 3, 6, 5, 3, 2, 1, 6,8 ,2, 3])\n",
    "b = np.array([7, 8, 5, 9, 5, 8, 6, 4, 6,7, 6, 9,5,7,4,6,8,5,8,7])\n",
    "a_count = np.count_nonzero(a)\n",
    "b_count = np.count_nonzero(b)\n",
    "a_mean = a.mean()\n",
    "b_mean = b.mean()\n",
    "a_var = (a.std())**2\n",
    "b_var = (b.std())**2\n",
    "DOF = a_count + b_count - 2\n",
    "pool_Variance = ((a_count-1)*a_var + (b_count-1)*b_var)*1.0/DOF\n",
    "t_0 = np.absolute((a_mean - b_mean)/(np.sqrt(pool_Variance)*np.sqrt((1/a_count) + (1/b_count))))\n",
    "t_5 = 1.686\n",
    "results = t_0 < t_5\n",
    "required_diff = 2*(t_5*(np.sqrt(pool_Variance)*np.sqrt((1/a_count) + (1/b_count))))\n",
    "diff_truemean = 2*(t_5 * (np.sqrt(pool_Variance)*np.sqrt((1/a_count) + (1/b_count))))\n",
    "dic = {\n",
    "    \"N\" : pd.Series(np.array([a_count , b_count])),\n",
    "    \"Mean\" : pd.Series(np.array([a_mean , b_mean])),\n",
    "    \"Std Dev\" : pd.Series(np.array([a.std() , b.std()]))\n",
    "}\n",
    "okk = pd.DataFrame(dic )\n",
    "okk.index = [\"10 seconds\" , \"20 seconds\"]\n",
    "print(f\"Two sample T test for 10 seconds vs 20 seconds\\n\\n\\n {okk}\\n\\n\\n\\nT-test value: {t_0}\\n95% upper bound for difference: {diff_truemean}\\nDoF: {DOF} \")"
   ]
  },
  {
   "cell_type": "code",
   "execution_count": 9,
   "id": "e46f0ceb",
   "metadata": {},
   "outputs": [
    {
     "data": {
      "text/plain": [
       "20"
      ]
     },
     "execution_count": 9,
     "metadata": {},
     "output_type": "execute_result"
    }
   ],
   "source": [
    "whole1 = []\n",
    "A = np.unique(a)\n",
    "A = np.sort(A)\n",
    "for i in a:\n",
    "    whole1.append(np.count_nonzero(a == i))\n",
    "whole1 = np.array(whole1)  \n",
    "mean = np.mean(whole1)\n",
    "variance = np.std(whole1)**2\n",
    "now = []\n",
    "for j in whole1:\n",
    "    now.append((j - mean)/variance)\n",
    "dic2 = {\n",
    "    \"Normal Score\" : now,\n",
    "    \"Residuals\"    : A\n",
    "}\n",
    "# nows = pd.DataFrame(dic2)\n",
    "# sns.lmplot(x = \"Residuals\" , y = \"Normal Score\" , data = nows)\n"
   ]
  },
  {
   "cell_type": "markdown",
   "id": "1654d2c5",
   "metadata": {},
   "source": [
    "# Question 2"
   ]
  },
  {
   "cell_type": "code",
   "execution_count": 11,
   "id": "fe419b9f",
   "metadata": {},
   "outputs": [
    {
     "name": "stdout",
     "output_type": "stream",
     "text": [
      "Hypothesis Used:\n",
      "H0 : mean1 = mean2\n",
      "H1 : mean 1 =! mean 2\n",
      "\n",
      "\n",
      "From Statistical Z-model H0 is False\n",
      "\n",
      "\n",
      "Mean range for 95% confidence interval:\n",
      "0.049477471294571376 - 0.07852252870542874\n"
     ]
    }
   ],
   "source": [
    "okk = np.array([16.03 ,16.04, 16.50, 16.05, 16.02, 16.10, 15.96, 15.98, 16.02, 15.99])\n",
    "now = np.array([16.02, 15.97, 15.96, 16.01, 15.99, 16.03, 16.04, 16.02, 16.01, 16.00])\n",
    "okk_mean = okk.mean()\n",
    "now_mean = now.mean()\n",
    "okk_var = 0.015\n",
    "now_var = 0.018\n",
    "okk_count = np.count_nonzero(okk)\n",
    "now_count = np.count_nonzero(now)\n",
    "z_0 = (okk_mean - now_mean)/(np.sqrt((okk_var**2/okk_count)+(now_var**2/now_count)))\n",
    "z_alpha = 1.96\n",
    "result = z_0 < z_alpha\n",
    "diff_mean = 2*(z_alpha*(np.sqrt((okk_var**2/okk_count)+(now_var**2/now_count))))\n",
    "mean1 = (okk_mean - now_mean)+(z_alpha*(np.sqrt((okk_var**2/okk_count)+(now_var**2/now_count))))\n",
    "mean2 = (okk_mean - now_mean)-(z_alpha*(np.sqrt((okk_var**2/okk_count)+(now_var**2/now_count))))\n",
    "print(f\"Hypothesis Used:\\nH0 : mean1 = mean2\\nH1 : mean 1 =! mean 2\\n\\n\\nFrom Statistical Z-model H0 is {result}\\n\\n\\nMean range for 95% confidence interval:\\n{mean2} - {mean1}\")"
   ]
  },
  {
   "cell_type": "code",
   "execution_count": null,
   "id": "3f7ef0a9",
   "metadata": {},
   "outputs": [],
   "source": []
  }
 ],
 "metadata": {
  "kernelspec": {
   "display_name": "Python 3 (ipykernel)",
   "language": "python",
   "name": "python3"
  },
  "language_info": {
   "codemirror_mode": {
    "name": "ipython",
    "version": 3
   },
   "file_extension": ".py",
   "mimetype": "text/x-python",
   "name": "python",
   "nbconvert_exporter": "python",
   "pygments_lexer": "ipython3",
   "version": "3.9.13"
  }
 },
 "nbformat": 4,
 "nbformat_minor": 5
}
