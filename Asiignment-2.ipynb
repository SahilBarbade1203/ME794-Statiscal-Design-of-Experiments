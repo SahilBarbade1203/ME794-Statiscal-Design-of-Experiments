{
 "cells": [
  {
   "cell_type": "code",
   "execution_count": 1,
   "id": "cad6cf09",
   "metadata": {},
   "outputs": [],
   "source": [
    "import numpy as np\n",
    "import matplotlib.pyplot as plt\n",
    "import seaborn as sns\n",
    "import pandas as pd"
   ]
  },
  {
   "cell_type": "code",
   "execution_count": 2,
   "id": "925fdf56",
   "metadata": {},
   "outputs": [],
   "source": [
    "%matplotlib inline"
   ]
  },
  {
   "cell_type": "code",
   "execution_count": 3,
   "id": "1645c320",
   "metadata": {},
   "outputs": [],
   "source": [
    "df = pd.read_csv(r'MS Dhoni ODI Batting.csv')"
   ]
  },
  {
   "cell_type": "code",
   "execution_count": 4,
   "id": "e85211f1",
   "metadata": {},
   "outputs": [
    {
     "data": {
      "text/html": [
       "<div>\n",
       "<style scoped>\n",
       "    .dataframe tbody tr th:only-of-type {\n",
       "        vertical-align: middle;\n",
       "    }\n",
       "\n",
       "    .dataframe tbody tr th {\n",
       "        vertical-align: top;\n",
       "    }\n",
       "\n",
       "    .dataframe thead th {\n",
       "        text-align: right;\n",
       "    }\n",
       "</style>\n",
       "<table border=\"1\" class=\"dataframe\">\n",
       "  <thead>\n",
       "    <tr style=\"text-align: right;\">\n",
       "      <th></th>\n",
       "      <th>Match</th>\n",
       "      <th>Date</th>\n",
       "      <th>Match No.</th>\n",
       "      <th>Runs</th>\n",
       "      <th>Balls</th>\n",
       "      <th>Mins</th>\n",
       "      <th>4s</th>\n",
       "      <th>6s</th>\n",
       "      <th>Ct</th>\n",
       "      <th>St</th>\n",
       "    </tr>\n",
       "  </thead>\n",
       "  <tbody>\n",
       "    <tr>\n",
       "      <th>0</th>\n",
       "      <td>India in Bangladesh 2015 (2nd ODI)</td>\n",
       "      <td>21st June 2015</td>\n",
       "      <td>264</td>\n",
       "      <td>47.0</td>\n",
       "      <td>75.0</td>\n",
       "      <td>112</td>\n",
       "      <td>3</td>\n",
       "      <td>-</td>\n",
       "      <td>1</td>\n",
       "      <td>0</td>\n",
       "    </tr>\n",
       "    <tr>\n",
       "      <th>1</th>\n",
       "      <td>India in Bangladesh 2015 (1st ODI)</td>\n",
       "      <td>18th June 2015</td>\n",
       "      <td>263</td>\n",
       "      <td>5.0</td>\n",
       "      <td>7.0</td>\n",
       "      <td>13</td>\n",
       "      <td>-</td>\n",
       "      <td>-</td>\n",
       "      <td>0</td>\n",
       "      <td>0</td>\n",
       "    </tr>\n",
       "    <tr>\n",
       "      <th>2</th>\n",
       "      <td>ICC World Cup 2014/15 (Semi-Final)</td>\n",
       "      <td>26th March 2015</td>\n",
       "      <td>262</td>\n",
       "      <td>65.0</td>\n",
       "      <td>65.0</td>\n",
       "      <td>94</td>\n",
       "      <td>3</td>\n",
       "      <td>2</td>\n",
       "      <td>0</td>\n",
       "      <td>0</td>\n",
       "    </tr>\n",
       "    <tr>\n",
       "      <th>3</th>\n",
       "      <td>ICC World Cup 2014/15 (Quarter-Final)</td>\n",
       "      <td>19th March 2015</td>\n",
       "      <td>261</td>\n",
       "      <td>6.0</td>\n",
       "      <td>11.0</td>\n",
       "      <td>0</td>\n",
       "      <td>-</td>\n",
       "      <td>-</td>\n",
       "      <td>4</td>\n",
       "      <td>0</td>\n",
       "    </tr>\n",
       "    <tr>\n",
       "      <th>4</th>\n",
       "      <td>ICC World Cup 2014/15 (Pool B)</td>\n",
       "      <td>14th March 2015</td>\n",
       "      <td>260</td>\n",
       "      <td>85.0</td>\n",
       "      <td>76.0</td>\n",
       "      <td>113</td>\n",
       "      <td>8</td>\n",
       "      <td>2</td>\n",
       "      <td>2</td>\n",
       "      <td>0</td>\n",
       "    </tr>\n",
       "    <tr>\n",
       "      <th>...</th>\n",
       "      <td>...</td>\n",
       "      <td>...</td>\n",
       "      <td>...</td>\n",
       "      <td>...</td>\n",
       "      <td>...</td>\n",
       "      <td>...</td>\n",
       "      <td>...</td>\n",
       "      <td>...</td>\n",
       "      <td>...</td>\n",
       "      <td>...</td>\n",
       "    </tr>\n",
       "    <tr>\n",
       "      <th>259</th>\n",
       "      <td>Pakistan in India: 2nd ODI, 2004/05</td>\n",
       "      <td>5-Apr-05</td>\n",
       "      <td>5</td>\n",
       "      <td>148.0</td>\n",
       "      <td>123.0</td>\n",
       "      <td>155</td>\n",
       "      <td>15</td>\n",
       "      <td>4</td>\n",
       "      <td>2</td>\n",
       "      <td>0</td>\n",
       "    </tr>\n",
       "    <tr>\n",
       "      <th>260</th>\n",
       "      <td>Pakistan in India: 1st ODI, 2004/05</td>\n",
       "      <td>2-Apr-05</td>\n",
       "      <td>4</td>\n",
       "      <td>3.0</td>\n",
       "      <td>7.0</td>\n",
       "      <td>-</td>\n",
       "      <td>-</td>\n",
       "      <td>-</td>\n",
       "      <td>0</td>\n",
       "      <td>0</td>\n",
       "    </tr>\n",
       "    <tr>\n",
       "      <th>261</th>\n",
       "      <td>India in Bangladesh: 3rd ODI, 2004/05</td>\n",
       "      <td>27-Dec-04</td>\n",
       "      <td>3</td>\n",
       "      <td>7.0</td>\n",
       "      <td>2.0</td>\n",
       "      <td>2</td>\n",
       "      <td>-</td>\n",
       "      <td>1</td>\n",
       "      <td>3</td>\n",
       "      <td>2</td>\n",
       "    </tr>\n",
       "    <tr>\n",
       "      <th>262</th>\n",
       "      <td>India in Bangladesh: 2nd ODI, 2004/05</td>\n",
       "      <td>26-Dec-04</td>\n",
       "      <td>2</td>\n",
       "      <td>12.0</td>\n",
       "      <td>11.0</td>\n",
       "      <td>16</td>\n",
       "      <td>2</td>\n",
       "      <td>-</td>\n",
       "      <td>1</td>\n",
       "      <td>0</td>\n",
       "    </tr>\n",
       "    <tr>\n",
       "      <th>263</th>\n",
       "      <td>India in Bangladesh: 1st ODI, 2004/05</td>\n",
       "      <td>23-Dec-04</td>\n",
       "      <td>1</td>\n",
       "      <td>0.0</td>\n",
       "      <td>1.0</td>\n",
       "      <td>1</td>\n",
       "      <td>-</td>\n",
       "      <td>-</td>\n",
       "      <td>0</td>\n",
       "      <td>0</td>\n",
       "    </tr>\n",
       "  </tbody>\n",
       "</table>\n",
       "<p>264 rows × 10 columns</p>\n",
       "</div>"
      ],
      "text/plain": [
       "                                     Match             Date  Match No.   Runs  \\\n",
       "0       India in Bangladesh 2015 (2nd ODI)   21st June 2015        264   47.0   \n",
       "1       India in Bangladesh 2015 (1st ODI)   18th June 2015        263    5.0   \n",
       "2       ICC World Cup 2014/15 (Semi-Final)  26th March 2015        262   65.0   \n",
       "3    ICC World Cup 2014/15 (Quarter-Final)  19th March 2015        261    6.0   \n",
       "4           ICC World Cup 2014/15 (Pool B)  14th March 2015        260   85.0   \n",
       "..                                     ...              ...        ...    ...   \n",
       "259    Pakistan in India: 2nd ODI, 2004/05         5-Apr-05          5  148.0   \n",
       "260    Pakistan in India: 1st ODI, 2004/05         2-Apr-05          4    3.0   \n",
       "261  India in Bangladesh: 3rd ODI, 2004/05        27-Dec-04          3    7.0   \n",
       "262  India in Bangladesh: 2nd ODI, 2004/05        26-Dec-04          2   12.0   \n",
       "263  India in Bangladesh: 1st ODI, 2004/05        23-Dec-04          1    0.0   \n",
       "\n",
       "     Balls Mins  4s 6s  Ct  St  \n",
       "0     75.0  112   3  -   1   0  \n",
       "1      7.0   13   -  -   0   0  \n",
       "2     65.0   94   3  2   0   0  \n",
       "3     11.0    0   -  -   4   0  \n",
       "4     76.0  113   8  2   2   0  \n",
       "..     ...  ...  .. ..  ..  ..  \n",
       "259  123.0  155  15  4   2   0  \n",
       "260    7.0    -   -  -   0   0  \n",
       "261    2.0    2   -  1   3   2  \n",
       "262   11.0   16   2  -   1   0  \n",
       "263    1.0    1   -  -   0   0  \n",
       "\n",
       "[264 rows x 10 columns]"
      ]
     },
     "execution_count": 4,
     "metadata": {},
     "output_type": "execute_result"
    }
   ],
   "source": [
    "df"
   ]
  },
  {
   "cell_type": "code",
   "execution_count": 5,
   "id": "bd21f0af",
   "metadata": {},
   "outputs": [
    {
     "data": {
      "text/plain": [
       "Match        232\n",
       "Date         232\n",
       "Match No.    264\n",
       "Runs         230\n",
       "Balls        230\n",
       "Mins         225\n",
       "4s           230\n",
       "6s           230\n",
       "Ct           264\n",
       "St           264\n",
       "dtype: int64"
      ]
     },
     "execution_count": 5,
     "metadata": {},
     "output_type": "execute_result"
    }
   ],
   "source": [
    "df.count()"
   ]
  },
  {
   "cell_type": "code",
   "execution_count": 10,
   "id": "76dc48d9",
   "metadata": {},
   "outputs": [
    {
     "data": {
      "text/plain": [
       "183.0"
      ]
     },
     "execution_count": 10,
     "metadata": {},
     "output_type": "execute_result"
    }
   ],
   "source": [
    "df[\"Runs\"].max()"
   ]
  },
  {
   "cell_type": "code",
   "execution_count": 40,
   "id": "0f412bf4",
   "metadata": {},
   "outputs": [
    {
     "data": {
      "text/plain": [
       "200"
      ]
     },
     "execution_count": 40,
     "metadata": {},
     "output_type": "execute_result"
    }
   ],
   "source": [
    "df = df.dropna()\n",
    "list = []\n",
    "for i in range(200):\n",
    "    a = df[df[\"Runs\"]>=i]\n",
    "    b = a[a['Runs']<i+1]\n",
    "    list.append(b[\"Runs\"].count())\n",
    "len(list)"
   ]
  },
  {
   "cell_type": "code",
   "execution_count": 41,
   "id": "192a7dce",
   "metadata": {},
   "outputs": [],
   "source": [
    "a = list"
   ]
  },
  {
   "cell_type": "code",
   "execution_count": 42,
   "id": "aa9a3f21",
   "metadata": {},
   "outputs": [
    {
     "data": {
      "text/plain": [
       "200"
      ]
     },
     "execution_count": 42,
     "metadata": {},
     "output_type": "execute_result"
    }
   ],
   "source": [
    "len(a)"
   ]
  },
  {
   "cell_type": "code",
   "execution_count": 45,
   "id": "ae6e1569",
   "metadata": {},
   "outputs": [],
   "source": [
    "dic = {\n",
    "    \"A\":pd.Series(a),\n",
    "    \"B\":np.arange(0,200,1),\n",
    "}"
   ]
  },
  {
   "cell_type": "code",
   "execution_count": 46,
   "id": "1945397e",
   "metadata": {},
   "outputs": [],
   "source": [
    "l = pd.DataFrame(dic)"
   ]
  },
  {
   "cell_type": "code",
   "execution_count": 53,
   "id": "44c482a7",
   "metadata": {},
   "outputs": [
    {
     "data": {
      "text/html": [
       "<div>\n",
       "<style scoped>\n",
       "    .dataframe tbody tr th:only-of-type {\n",
       "        vertical-align: middle;\n",
       "    }\n",
       "\n",
       "    .dataframe tbody tr th {\n",
       "        vertical-align: top;\n",
       "    }\n",
       "\n",
       "    .dataframe thead th {\n",
       "        text-align: right;\n",
       "    }\n",
       "</style>\n",
       "<table border=\"1\" class=\"dataframe\">\n",
       "  <thead>\n",
       "    <tr style=\"text-align: right;\">\n",
       "      <th></th>\n",
       "      <th>A</th>\n",
       "      <th>B</th>\n",
       "    </tr>\n",
       "  </thead>\n",
       "  <tbody>\n",
       "    <tr>\n",
       "      <th>0</th>\n",
       "      <td>6</td>\n",
       "      <td>0</td>\n",
       "    </tr>\n",
       "    <tr>\n",
       "      <th>1</th>\n",
       "      <td>1</td>\n",
       "      <td>1</td>\n",
       "    </tr>\n",
       "    <tr>\n",
       "      <th>2</th>\n",
       "      <td>7</td>\n",
       "      <td>2</td>\n",
       "    </tr>\n",
       "    <tr>\n",
       "      <th>3</th>\n",
       "      <td>3</td>\n",
       "      <td>3</td>\n",
       "    </tr>\n",
       "    <tr>\n",
       "      <th>4</th>\n",
       "      <td>3</td>\n",
       "      <td>4</td>\n",
       "    </tr>\n",
       "    <tr>\n",
       "      <th>...</th>\n",
       "      <td>...</td>\n",
       "      <td>...</td>\n",
       "    </tr>\n",
       "    <tr>\n",
       "      <th>195</th>\n",
       "      <td>0</td>\n",
       "      <td>195</td>\n",
       "    </tr>\n",
       "    <tr>\n",
       "      <th>196</th>\n",
       "      <td>0</td>\n",
       "      <td>196</td>\n",
       "    </tr>\n",
       "    <tr>\n",
       "      <th>197</th>\n",
       "      <td>0</td>\n",
       "      <td>197</td>\n",
       "    </tr>\n",
       "    <tr>\n",
       "      <th>198</th>\n",
       "      <td>0</td>\n",
       "      <td>198</td>\n",
       "    </tr>\n",
       "    <tr>\n",
       "      <th>199</th>\n",
       "      <td>0</td>\n",
       "      <td>199</td>\n",
       "    </tr>\n",
       "  </tbody>\n",
       "</table>\n",
       "<p>200 rows × 2 columns</p>\n",
       "</div>"
      ],
      "text/plain": [
       "     A    B\n",
       "0    6    0\n",
       "1    1    1\n",
       "2    7    2\n",
       "3    3    3\n",
       "4    3    4\n",
       "..  ..  ...\n",
       "195  0  195\n",
       "196  0  196\n",
       "197  0  197\n",
       "198  0  198\n",
       "199  0  199\n",
       "\n",
       "[200 rows x 2 columns]"
      ]
     },
     "execution_count": 53,
     "metadata": {},
     "output_type": "execute_result"
    }
   ],
   "source": [
    "l"
   ]
  },
  {
   "cell_type": "code",
   "execution_count": 54,
   "id": "3b15c2ef",
   "metadata": {},
   "outputs": [
    {
     "data": {
      "text/plain": [
       "Text(0.5, 1.0, 'Probability Distribution of MS DHONI.')"
      ]
     },
     "execution_count": 54,
     "metadata": {},
     "output_type": "execute_result"
    },
    {
     "data": {
      "image/png": "[encoded data removed]",
      "text/plain": [
       "<Figure size 3000x1000 with 1 Axes>"
      ]
     },
     "metadata": {},
     "output_type": "display_data"
    }
   ],
   "source": [
    "\n",
    "l[\"C\"] = l[\"A\"]/(df[\"Match\"].count())\n",
    "values = l[\"B\"]\n",
    "a = plt.figure(figsize=(30,10))\n",
    "plt.bar(values,l[\"C\"])\n",
    "plt.xlabel(\"Runs Scored\",size =20)\n",
    "plt.ylabel(\"Probability of scoring it\" , size =20)\n",
    "plt.title(\"Probability Distribution of MS DHONI.\",size =20)"
   ]
  },
  {
   "cell_type": "code",
   "execution_count": 55,
   "id": "08ba1575",
   "metadata": {
    "scrolled": true
   },
   "outputs": [],
   "source": [
    "a1 = df[\"Runs\"].mean()\n",
    "b1 = df['Runs'].mode()\n",
    "c1 = df['Runs'].median()"
   ]
  },
  {
   "cell_type": "code",
   "execution_count": 56,
   "id": "49ba6541",
   "metadata": {},
   "outputs": [
    {
     "name": "stdout",
     "output_type": "stream",
     "text": [
      "Mean  : 38.014925373134325\n",
      "Mode : 0    2.0\n",
      "Name: Runs, dtype: float64\n",
      "Median : 33.0\n"
     ]
    }
   ],
   "source": [
    "print(f\"Mean  : {a1}\\nMode : {b1}\\nMedian : {c1}\")"
   ]
  },
  {
   "cell_type": "code",
   "execution_count": 57,
   "id": "16364299",
   "metadata": {},
   "outputs": [],
   "source": [
    "a = pd.Series(df[\"Runs\"])\n",
    "a1 = a.fillna(0)\n",
    "dev = 0\n",
    "dev1 = 0\n",
    "mean = a.mean()\n",
    "for i in a1:\n",
    "    dev += (i-mean)**3\n",
    "    dev1 += (i-mean)**4\n",
    "skewness = dev/((a.count()-1)*(a.std()**3))\n",
    "kurtosis = (dev1/((a.count()-1)*(a.std()**4))) - 3"
   ]
  },
  {
   "cell_type": "code",
   "execution_count": 58,
   "id": "efba29a6",
   "metadata": {},
   "outputs": [
    {
     "name": "stdout",
     "output_type": "stream",
     "text": [
      "Skewness : 1.333293679534123 \n",
      "Kurtosis : 2.4603895440009245\n"
     ]
    }
   ],
   "source": [
    "print(f\"Skewness : {skewness} \\nKurtosis : {kurtosis}\")"
   ]
  },
  {
   "cell_type": "code",
   "execution_count": 89,
   "id": "242f4669",
   "metadata": {},
   "outputs": [
    {
     "data": {
      "text/plain": [
       "<matplotlib.legend.Legend at 0x7faea9cf5af0>"
      ]
     },
     "execution_count": 89,
     "metadata": {},
     "output_type": "execute_result"
    },
    {
     "data": {
      "image/png": "[encoded data removed]",
      "text/plain": [
       "<Figure size 640x480 with 1 Axes>"
      ]
     },
     "metadata": {},
     "output_type": "display_data"
    }
   ],
   "source": [
    "df[\"Proper Date\"] = pd.to_datetime(df[\"Date\"])\n",
    "df['Year'] = df['Proper Date'].dt.strftime('%Y')\n",
    "b = df.groupby(by=df[\"Year\"])\n",
    "meanyear = b[\"Runs\"].mean()\n",
    "medianyear = b[\"Runs\"].median()\n",
    "stdyear = b[\"Runs\"].std()\n",
    "a = b[\"Runs\"].apply(pd.Series.mode)\n",
    "list=[]\n",
    "for i in meanyear.index:\n",
    "    list.append(a[i][0])\n",
    "plt.plot(meanyear , \"b\",label = \"Mean\")\n",
    "plt.errorbar(meanyear.index,meanyear,yerr = stdyear)\n",
    "plt.plot(medianyear, \"r\",label = \"Median\")\n",
    "plt.plot(meanyear.index,list , \"black\" , label = \"Mode\")\n",
    "plt.xlabel(\"Years\",fontsize=12)\n",
    "plt.ylabel(\"Values\",fontsize=12)\n",
    "plt.legend()"
   ]
  },
  {
   "cell_type": "code",
   "execution_count": 93,
   "id": "5f4e1ab3",
   "metadata": {},
   "outputs": [
    {
     "data": {
      "text/plain": [
       "['18th', 'June', '2015']"
      ]
     },
     "execution_count": 93,
     "metadata": {},
     "output_type": "execute_result"
    }
   ],
   "source": [
    "a = df[\"Date\"][1]\n"
   ]
  },
  {
   "cell_type": "code",
   "execution_count": 87,
   "id": "ca436523",
   "metadata": {},
   "outputs": [],
   "source": [
    "a = s[\"Date\"].apply(pd.Series.mode)"
   ]
  },
  {
   "cell_type": "code",
   "execution_count": 102,
   "id": "49906185",
   "metadata": {},
   "outputs": [
    {
     "data": {
      "text/html": [
       "<div>\n",
       "<style scoped>\n",
       "    .dataframe tbody tr th:only-of-type {\n",
       "        vertical-align: middle;\n",
       "    }\n",
       "\n",
       "    .dataframe tbody tr th {\n",
       "        vertical-align: top;\n",
       "    }\n",
       "\n",
       "    .dataframe thead th {\n",
       "        text-align: right;\n",
       "    }\n",
       "</style>\n",
       "<table border=\"1\" class=\"dataframe\">\n",
       "  <thead>\n",
       "    <tr style=\"text-align: right;\">\n",
       "      <th></th>\n",
       "      <th>Match</th>\n",
       "      <th>Date</th>\n",
       "      <th>Match No.</th>\n",
       "      <th>Runs</th>\n",
       "      <th>Balls</th>\n",
       "      <th>Mins</th>\n",
       "      <th>4s</th>\n",
       "      <th>6s</th>\n",
       "      <th>Ct</th>\n",
       "      <th>St</th>\n",
       "      <th>Proper Date</th>\n",
       "      <th>Year</th>\n",
       "      <th>MonthYear</th>\n",
       "    </tr>\n",
       "  </thead>\n",
       "  <tbody>\n",
       "    <tr>\n",
       "      <th>0</th>\n",
       "      <td>India in Bangladesh 2015 (2nd ODI)</td>\n",
       "      <td>21st June 2015</td>\n",
       "      <td>264</td>\n",
       "      <td>47.0</td>\n",
       "      <td>75.0</td>\n",
       "      <td>112</td>\n",
       "      <td>3</td>\n",
       "      <td>-</td>\n",
       "      <td>1</td>\n",
       "      <td>0</td>\n",
       "      <td>2015-06-21</td>\n",
       "      <td>2015</td>\n",
       "      <td>06-2015</td>\n",
       "    </tr>\n",
       "    <tr>\n",
       "      <th>1</th>\n",
       "      <td>India in Bangladesh 2015 (1st ODI)</td>\n",
       "      <td>18th June 2015</td>\n",
       "      <td>263</td>\n",
       "      <td>5.0</td>\n",
       "      <td>7.0</td>\n",
       "      <td>13</td>\n",
       "      <td>-</td>\n",
       "      <td>-</td>\n",
       "      <td>0</td>\n",
       "      <td>0</td>\n",
       "      <td>2015-06-18</td>\n",
       "      <td>2015</td>\n",
       "      <td>06-2015</td>\n",
       "    </tr>\n",
       "    <tr>\n",
       "      <th>2</th>\n",
       "      <td>ICC World Cup 2014/15 (Semi-Final)</td>\n",
       "      <td>26th March 2015</td>\n",
       "      <td>262</td>\n",
       "      <td>65.0</td>\n",
       "      <td>65.0</td>\n",
       "      <td>94</td>\n",
       "      <td>3</td>\n",
       "      <td>2</td>\n",
       "      <td>0</td>\n",
       "      <td>0</td>\n",
       "      <td>2015-03-26</td>\n",
       "      <td>2015</td>\n",
       "      <td>03-2015</td>\n",
       "    </tr>\n",
       "    <tr>\n",
       "      <th>3</th>\n",
       "      <td>ICC World Cup 2014/15 (Quarter-Final)</td>\n",
       "      <td>19th March 2015</td>\n",
       "      <td>261</td>\n",
       "      <td>6.0</td>\n",
       "      <td>11.0</td>\n",
       "      <td>0</td>\n",
       "      <td>-</td>\n",
       "      <td>-</td>\n",
       "      <td>4</td>\n",
       "      <td>0</td>\n",
       "      <td>2015-03-19</td>\n",
       "      <td>2015</td>\n",
       "      <td>03-2015</td>\n",
       "    </tr>\n",
       "    <tr>\n",
       "      <th>4</th>\n",
       "      <td>ICC World Cup 2014/15 (Pool B)</td>\n",
       "      <td>14th March 2015</td>\n",
       "      <td>260</td>\n",
       "      <td>85.0</td>\n",
       "      <td>76.0</td>\n",
       "      <td>113</td>\n",
       "      <td>8</td>\n",
       "      <td>2</td>\n",
       "      <td>2</td>\n",
       "      <td>0</td>\n",
       "      <td>2015-03-14</td>\n",
       "      <td>2015</td>\n",
       "      <td>03-2015</td>\n",
       "    </tr>\n",
       "    <tr>\n",
       "      <th>...</th>\n",
       "      <td>...</td>\n",
       "      <td>...</td>\n",
       "      <td>...</td>\n",
       "      <td>...</td>\n",
       "      <td>...</td>\n",
       "      <td>...</td>\n",
       "      <td>...</td>\n",
       "      <td>...</td>\n",
       "      <td>...</td>\n",
       "      <td>...</td>\n",
       "      <td>...</td>\n",
       "      <td>...</td>\n",
       "      <td>...</td>\n",
       "    </tr>\n",
       "    <tr>\n",
       "      <th>259</th>\n",
       "      <td>Pakistan in India: 2nd ODI, 2004/05</td>\n",
       "      <td>5-Apr-05</td>\n",
       "      <td>5</td>\n",
       "      <td>148.0</td>\n",
       "      <td>123.0</td>\n",
       "      <td>155</td>\n",
       "      <td>15</td>\n",
       "      <td>4</td>\n",
       "      <td>2</td>\n",
       "      <td>0</td>\n",
       "      <td>2005-04-05</td>\n",
       "      <td>2005</td>\n",
       "      <td>04-2005</td>\n",
       "    </tr>\n",
       "    <tr>\n",
       "      <th>260</th>\n",
       "      <td>Pakistan in India: 1st ODI, 2004/05</td>\n",
       "      <td>2-Apr-05</td>\n",
       "      <td>4</td>\n",
       "      <td>3.0</td>\n",
       "      <td>7.0</td>\n",
       "      <td>-</td>\n",
       "      <td>-</td>\n",
       "      <td>-</td>\n",
       "      <td>0</td>\n",
       "      <td>0</td>\n",
       "      <td>2005-04-02</td>\n",
       "      <td>2005</td>\n",
       "      <td>04-2005</td>\n",
       "    </tr>\n",
       "    <tr>\n",
       "      <th>261</th>\n",
       "      <td>India in Bangladesh: 3rd ODI, 2004/05</td>\n",
       "      <td>27-Dec-04</td>\n",
       "      <td>3</td>\n",
       "      <td>7.0</td>\n",
       "      <td>2.0</td>\n",
       "      <td>2</td>\n",
       "      <td>-</td>\n",
       "      <td>1</td>\n",
       "      <td>3</td>\n",
       "      <td>2</td>\n",
       "      <td>2004-12-27</td>\n",
       "      <td>2004</td>\n",
       "      <td>12-2004</td>\n",
       "    </tr>\n",
       "    <tr>\n",
       "      <th>262</th>\n",
       "      <td>India in Bangladesh: 2nd ODI, 2004/05</td>\n",
       "      <td>26-Dec-04</td>\n",
       "      <td>2</td>\n",
       "      <td>12.0</td>\n",
       "      <td>11.0</td>\n",
       "      <td>16</td>\n",
       "      <td>2</td>\n",
       "      <td>-</td>\n",
       "      <td>1</td>\n",
       "      <td>0</td>\n",
       "      <td>2004-12-26</td>\n",
       "      <td>2004</td>\n",
       "      <td>12-2004</td>\n",
       "    </tr>\n",
       "    <tr>\n",
       "      <th>263</th>\n",
       "      <td>India in Bangladesh: 1st ODI, 2004/05</td>\n",
       "      <td>23-Dec-04</td>\n",
       "      <td>1</td>\n",
       "      <td>0.0</td>\n",
       "      <td>1.0</td>\n",
       "      <td>1</td>\n",
       "      <td>-</td>\n",
       "      <td>-</td>\n",
       "      <td>0</td>\n",
       "      <td>0</td>\n",
       "      <td>2004-12-23</td>\n",
       "      <td>2004</td>\n",
       "      <td>12-2004</td>\n",
       "    </tr>\n",
       "  </tbody>\n",
       "</table>\n",
       "<p>201 rows × 13 columns</p>\n",
       "</div>"
      ],
      "text/plain": [
       "                                     Match             Date  Match No.   Runs  \\\n",
       "0       India in Bangladesh 2015 (2nd ODI)   21st June 2015        264   47.0   \n",
       "1       India in Bangladesh 2015 (1st ODI)   18th June 2015        263    5.0   \n",
       "2       ICC World Cup 2014/15 (Semi-Final)  26th March 2015        262   65.0   \n",
       "3    ICC World Cup 2014/15 (Quarter-Final)  19th March 2015        261    6.0   \n",
       "4           ICC World Cup 2014/15 (Pool B)  14th March 2015        260   85.0   \n",
       "..                                     ...              ...        ...    ...   \n",
       "259    Pakistan in India: 2nd ODI, 2004/05         5-Apr-05          5  148.0   \n",
       "260    Pakistan in India: 1st ODI, 2004/05         2-Apr-05          4    3.0   \n",
       "261  India in Bangladesh: 3rd ODI, 2004/05        27-Dec-04          3    7.0   \n",
       "262  India in Bangladesh: 2nd ODI, 2004/05        26-Dec-04          2   12.0   \n",
       "263  India in Bangladesh: 1st ODI, 2004/05        23-Dec-04          1    0.0   \n",
       "\n",
       "     Balls Mins  4s 6s  Ct  St Proper Date  Year MonthYear  \n",
       "0     75.0  112   3  -   1   0  2015-06-21  2015   06-2015  \n",
       "1      7.0   13   -  -   0   0  2015-06-18  2015   06-2015  \n",
       "2     65.0   94   3  2   0   0  2015-03-26  2015   03-2015  \n",
       "3     11.0    0   -  -   4   0  2015-03-19  2015   03-2015  \n",
       "4     76.0  113   8  2   2   0  2015-03-14  2015   03-2015  \n",
       "..     ...  ...  .. ..  ..  ..         ...   ...       ...  \n",
       "259  123.0  155  15  4   2   0  2005-04-05  2005   04-2005  \n",
       "260    7.0    -   -  -   0   0  2005-04-02  2005   04-2005  \n",
       "261    2.0    2   -  1   3   2  2004-12-27  2004   12-2004  \n",
       "262   11.0   16   2  -   1   0  2004-12-26  2004   12-2004  \n",
       "263    1.0    1   -  -   0   0  2004-12-23  2004   12-2004  \n",
       "\n",
       "[201 rows x 13 columns]"
      ]
     },
     "execution_count": 102,
     "metadata": {},
     "output_type": "execute_result"
    }
   ],
   "source": [
    "df[\"MonthYear\"] = df[\"Proper Date\"].dt.strftime(\"%m\"\"-\"\"%Y\")\n",
    "df"
   ]
  },
  {
   "cell_type": "code",
   "execution_count": 157,
   "id": "c8f497d8",
   "metadata": {},
   "outputs": [],
   "source": [
    "okk = df.groupby(by =df[\"MonthYear\"])\n",
    "meanyear = okk[\"Runs\"].mean()\n",
    "medianyear = okk[\"Runs\"].median()\n",
    "stdyear = okk[\"Runs\"].std()\n",
    "a = okk.apply(pd.DataFrame.mode)\n",
    "a[\"Events\"] = a[\"Match\"]\n",
    "a[\"\"]"
   ]
  },
  {
   "cell_type": "code",
   "execution_count": null,
   "id": "908f8b5e",
   "metadata": {},
   "outputs": [],
   "source": []
  }
 ],
 "metadata": {
  "kernelspec": {
   "display_name": "Python 3 (ipykernel)",
   "language": "python",
   "name": "python3"
  },
  "language_info": {
   "codemirror_mode": {
    "name": "ipython",
    "version": 3
   },
   "file_extension": ".py",
   "mimetype": "text/x-python",
   "name": "python",
   "nbconvert_exporter": "python",
   "pygments_lexer": "ipython3",
   "version": "3.9.13"
  }
 },
 "nbformat": 4,
 "nbformat_minor": 5
}
